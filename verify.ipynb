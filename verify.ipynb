{
 "cells": [
  {
   "cell_type": "code",
   "execution_count": 9,
   "id": "cc539af6-9c9a-49a1-8db3-0e3da3aae779",
   "metadata": {},
   "outputs": [
    {
     "name": "stdout",
     "output_type": "stream",
     "text": [
      "功率分配: [14.36827889 11.55360067  0.1        11.27809768  6.26945877  0.1       ]\n",
      "User 1 Rate: 8.940652989107903\n",
      "User 2 Rate: 6.842504207637381\n",
      "User 4 Rate: 3.586224057511704\n",
      "User 5 Rate: 1.4202543417748068\n",
      "Eavesdropper 3 Rate: 0.7872668166501613\n",
      "Eavesdropper 6 Rate: 0.010433290208593146\n",
      "给定功率分配的安全容量为： 17.640568329431147\n"
     ]
    }
   ],
   "source": [
    "import numpy as np\n",
    "\n",
    "# 用户参数\n",
    "antenna_gains_db = np.array([15, 12, 13, 10, 20, 11])\n",
    "channel_gains_db = np.array([-100, -105, -105, -115, -120, -125])\n",
    "\n",
    "# 系统参数\n",
    "bandwidth = 20e6\n",
    "noise_power_density = -174\n",
    "noise_power = 10 ** ((noise_power_density - 30) / 10) * bandwidth\n",
    "channel_gains = 10 ** ((channel_gains_db + 130) / 10)\n",
    "\n",
    "def calculate_secure_capacity(P):\n",
    "    print(\"功率分配:\", P)\n",
    "    user_indices = [0, 1, 3, 4]\n",
    "    eavesdropper_indices = [2, 5]\n",
    "    rates = np.zeros(4)\n",
    "    eavesdropper_rates = np.zeros(2)\n",
    "    total_power_transmitted = np.sum(P)\n",
    "\n",
    "    for i in range(4):\n",
    "        interference = total_power_transmitted - P[user_indices[i]]\n",
    "        SINR = P[user_indices[i]] * channel_gains[user_indices[i]] / (interference + noise_power)\n",
    "        rates[i] = np.log2(1 + SINR) if SINR > 0 else 0\n",
    "        print(f\"User {user_indices[i]+1} Rate: {rates[i]}\")\n",
    "\n",
    "    for i in range(2):\n",
    "        interference = total_power_transmitted - P[eavesdropper_indices[i]]\n",
    "        SINR = P[eavesdropper_indices[i]] * channel_gains[eavesdropper_indices[i]] / (interference + noise_power)\n",
    "        eavesdropper_rates[i] = np.log2(1 + SINR) if SINR > 0 else 0\n",
    "        print(f\"Eavesdropper {eavesdropper_indices[i]+1} Rate: {eavesdropper_rates[i]}\")\n",
    "\n",
    "    secure_rates = rates - np.max(eavesdropper_rates)\n",
    "    total_secure_rate = np.sum(secure_rates)\n",
    "    return total_secure_rate\n",
    "\n",
    "# 示例功率分配\n",
    "# power_allocation = np.array([10.57778097,7.03336391,0.1,5.86346522,5.99859956,0.1])\n",
    "# power_allocation = np.array([11.7258641,11.61413089,0,11.61411897,10.11035647,0])\n",
    "# power_allocation = np.array([10.92120895,10.8170421,0,10.81698948,9.41638012,0])\n",
    "# power_allocation = np.array([12.88243369,12.75986989,0,12.7596274,11.10773984,0])\n",
    "power_allocation = np.array([14.36827889,11.55360067,0.1,11.27809768,6.26945877,0.1])\n",
    "\n",
    "secure_capacity = calculate_secure_capacity(power_allocation)\n",
    "print(\"给定功率分配的安全容量为：\", secure_capacity)\n"
   ]
  }
 ],
 "metadata": {
  "kernelspec": {
   "display_name": "py38kernel",
   "language": "python",
   "name": "py38-kernel"
  },
  "language_info": {
   "codemirror_mode": {
    "name": "ipython",
    "version": 3
   },
   "file_extension": ".py",
   "mimetype": "text/x-python",
   "name": "python",
   "nbconvert_exporter": "python",
   "pygments_lexer": "ipython3",
   "version": "3.8.18"
  }
 },
 "nbformat": 4,
 "nbformat_minor": 5
}
